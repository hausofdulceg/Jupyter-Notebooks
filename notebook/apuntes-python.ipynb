{
 "cells": [
  {
   "cell_type": "code",
   "execution_count": 1,
   "metadata": {},
   "outputs": [],
   "source": [
    "x = 2\n"
   ]
  },
  {
   "cell_type": "code",
   "execution_count": 2,
   "metadata": {},
   "outputs": [
    {
     "data": {
      "text/plain": [
       "2"
      ]
     },
     "execution_count": 2,
     "metadata": {},
     "output_type": "execute_result"
    }
   ],
   "source": [
    "x"
   ]
  },
  {
   "cell_type": "markdown",
   "metadata": {},
   "source": [
    "# COMANDOS\n",
    "\n",
    "1. **pwd**: muestra la ruta en la que se está trabajando\n",
    "2. **cd**: siginifica \"Change Directory\" es para cambiar de directorio\n",
    "3. **cd ..**: regresar al directorio en donde se trabajaba anteriormente\n",
    "4. **clear**: limpiar consola\n",
    "5. **echo**: escribe (imprime en pantalla)\n",
    "6. **touch**: crear un archivo en blanco\n",
    "7. **mkdir**: crea un directorio/carpeta\n",
    "8. **cat**: muestra contenido de un texto\n",
    "9. **ls -l**: muestra los permisos\n",
    "10. **mv**: mover un archivo\n",
    "11. **cat**: muestra el contenido de un archivo\n",
    "12. **history**: muestra el historial de comandos que has utilizado\n",
    "13. **nano**: editar un archivo mienstras ves su contenido\n",
    "14. **git status**: ver status de un main\n",
    "15. **git diff**: ver cambios en un archivo\n",
    "16. **git log**: quién editó el archivo en el que estás pocisionado de\n",
    "17. **git log --oneline**: quién editó el archivo en el que estás pocisionado de forma corta\n",
    "18. **git add**: como mover un archivo\n",
    "19. **git commit**: guardar un commit\n",
    "20. **git config --global user.name**: agregar un usuario\n",
    "21. **git config --global user.email**: agregar el correo del usuario\n",
    "22. **git status**: ver el estado de los commits\n",
    "23. **rm -rf .git**: eliminar un proyecto de git\n",
    "24. **git checkout \"hash\"**: ver una version\n",
    "25. **clone**: agarra el repositorio y clona lo que hay en el\n",
    "26. **git checkout (código hash)**: para regresar a otro commit\n",
    "27. **git switch -c (nombre nuevo)**: cambiar el nombre de un commit\n",
    "28. **git log —oneline —graph —all**: muestra todos los commits del proyecto de forma gráfica\n",
    "29. **git log —oneline —all**: muestra todos los commits\n",
    "30. **git log —oneline**: muestra los commits del lugar en donde estás posicionado\n",
    "31. **git checkout (nombre de rama)**: cambiar de posición\n",
    "32. **git status -s**: para ver el status de forma corta\n",
    "33. **git checkout -b rama2**: para crear la rama y saltar a ella\n"
   ]
  },
  {
   "cell_type": "code",
   "execution_count": null,
   "metadata": {},
   "outputs": [],
   "source": []
  },
  {
   "cell_type": "markdown",
   "metadata": {},
   "source": []
  }
 ],
 "metadata": {
  "kernelspec": {
   "display_name": "Python 3.10.1 64-bit",
   "language": "python",
   "name": "python3"
  },
  "language_info": {
   "codemirror_mode": {
    "name": "ipython",
    "version": 3
   },
   "file_extension": ".py",
   "mimetype": "text/x-python",
   "name": "python",
   "nbconvert_exporter": "python",
   "pygments_lexer": "ipython3",
   "version": "3.10.1"
  },
  "orig_nbformat": 4,
  "vscode": {
   "interpreter": {
    "hash": "2decd9751b12705d88016680b933e3d9d6c55c9a08951d9be49529dd511836d1"
   }
  }
 },
 "nbformat": 4,
 "nbformat_minor": 2
}
